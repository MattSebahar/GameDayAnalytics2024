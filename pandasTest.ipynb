{
 "cells": [
  {
   "cell_type": "code",
   "execution_count": null,
   "id": "initial_id",
   "metadata": {
    "collapsed": true
   },
   "outputs": [],
   "source": [
    "import pandas as pd\n",
    "import matplotlib.pyplot as plt\n",
    "import seaborn as sb\n",
    "\n",
    "df = pd.read_csv('final_tweets_corrected_2024.csv')\n",
    "df.head()\n",
    "\n",
    "df = df.filter( items = ['keyword', 'text'])\n",
    "df.head()\n",
    "\n",
    "keyword_counts = df['keyword'].value_counts()\n",
    "\n",
    "top_keywords = keyword_counts.head(10).index\n",
    "\n",
    "df_top_keywords = df[df['keyword'].isin(top_keywords)]\n",
    "\n",
    "plt.figure(figsize= (8,6))\n",
    "sb.histplot(df_top_keywords['keyword'], bins = 10, kde = True)\n",
    "plt.title('Top 10 Keywords')\n",
    "plt.xlabel('Keywords')\n",
    "plt.ylabel('Frequency')\n",
    "plt.xticks(rotation = 45)\n",
    "plt.show()\n"
   ]
  },
  {
   "cell_type": "code",
   "outputs": [],
   "source": [
    "#Section for top 10 sentiment scores\n",
    "# Assuming ss is your DataFrame that contains the sentiment scores for each keyword\n",
    "ss = pd.read_csv('sentiment_scores.csv')\n",
    "\n",
    "# Merge df_top_keywords with ss on the 'keyword' column\n",
    "ss.rename(columns = {'Brand': 'keyword', 'Score': 'Score'}, inplace = True)\n",
    "df_top_keywords = pd.merge(df_top_keywords, ss, on='keyword')\n",
    "\n",
    "# Group by the 'keyword' column and calculate the mean sentiment score for each keyword\n",
    "sentiment_of_top_keywords = df_top_keywords.groupby('keyword')['Score'].mean()\n",
    "\n",
    "# Plot the sentiment of top keywords\n",
    "plt.figure(figsize= (8,6))\n",
    "sb.barplot(x=sentiment_of_top_keywords.index, y=sentiment_of_top_keywords.values)\n",
    "plt.title('Sentiment of Top 10 Keywords')\n",
    "plt.xlabel('Keywords')\n",
    "plt.ylabel('Sentiment Score')\n",
    "plt.xticks(rotation = 45)\n",
    "plt.show()\n"
   ],
   "metadata": {
    "collapsed": false
   },
   "id": "5e31bf17a7bbc1cf",
   "execution_count": null
  },
  {
   "cell_type": "code",
   "outputs": [],
   "source": [
    "#Section for the lowest 10 sentiment scores\n",
    "# Get the bottom 10 sentiment scores\n",
    "\n",
    "bottom_keywords = keyword_counts.tail(10).index\n",
    "\n",
    "df_bottom_keywords = df[df['keyword'].isin(bottom_keywords)]\n",
    "\n",
    "ss.rename(columns = {'Brand': 'keyword', 'Score': 'Score'}, inplace = True)\n",
    "\n",
    "df_bottom_keywords = pd.merge(df_bottom_keywords, ss, on='keyword')\n",
    "\n",
    "sentiment_of_bottom_keywords = df_bottom_keywords.groupby('keyword')['Score'].mean()\n",
    "\n",
    "# Plot the bottom 10 sentiment scores\n",
    "plt.figure(figsize= (8,6))\n",
    "sb.barplot(x=sentiment_of_bottom_keywords.index, y=sentiment_of_bottom_keywords.values)\n",
    "plt.title('Sentiment of Bottom 10 Keywords')\n",
    "plt.xlabel('Keywords')\n",
    "plt.ylabel('Sentiment Score')\n",
    "plt.xticks(rotation = 45)\n",
    "plt.show()\n",
    "\n",
    "ss.rename(columns = {'keyword': 'Brand', 'Score': 'Score'}, inplace = True)"
   ],
   "metadata": {
    "collapsed": false
   },
   "id": "eecaa9509794c50f",
   "execution_count": null
  },
  {
   "cell_type": "code",
   "outputs": [],
   "source": [
    "#Section for the top rated sentiment scores\n",
    "\n",
    "ss = pd.read_csv('sentiment_scores.csv')\n",
    "\n",
    "# Get the top 10 sentiment scores\n",
    "ss.sort_values(by='Score', ascending=False, inplace=True)\n",
    "top_sentiment_scores = ss.head(10).set_index('Brand')['Score']\n",
    "\n",
    "# Plot the top 10 sentiment scores\n",
    "plt.figure(figsize= (8,6))\n",
    "sb.barplot(x=top_sentiment_scores.index, y=top_sentiment_scores.values)\n",
    "plt.title('Top 10 Sentiment Scores')\n",
    "plt.xlabel('Keywords')\n",
    "plt.ylabel('Sentiment Score')\n",
    "plt.xticks(rotation = 45)\n",
    "plt.show()"
   ],
   "metadata": {
    "collapsed": false
   },
   "id": "1b96f33ae4edc462",
   "execution_count": null
  },
  {
   "cell_type": "code",
   "outputs": [],
   "source": [
    "#Section for the lowest rated sentiment scores\n",
    "\n",
    "ss = pd.read_csv('sentiment_scores.csv')\n",
    "\n",
    "ss.sort_values(by='Score', inplace=True)\n",
    "\n",
    "bottom_sentiment_scores = ss.head(10).set_index('Brand')['Score']\n",
    "\n",
    "# Plot the bottom 10 sentiment scores\n",
    "plt.figure(figsize= (8,6))\n",
    "sb.barplot(x=bottom_sentiment_scores.index, y=bottom_sentiment_scores.values)\n",
    "plt.title('Bottom 10 Sentiment Scores')\n",
    "plt.xlabel('Keywords')\n",
    "plt.ylabel('Sentiment Score')\n",
    "plt.xticks(rotation = 45)\n",
    "plt.gca().invert_yaxis()\n",
    "plt.show()\n"
   ],
   "metadata": {
    "collapsed": false
   },
   "id": "9798a5f2d047326a",
   "execution_count": null
  },
  {
   "cell_type": "code",
   "outputs": [],
   "source": [
    "#Section for collecting quarterly tweet counts\n",
    "df = pd.read_csv('final_tweets_corrected_2024.csv')\n",
    "qtr = pd.read_csv('Quarter and Brand Result.csv')\n",
    "\n",
    "counts = df['keyword'].value_counts()\n",
    "\n",
    "link_counts = list(zip(qtr['brandname'], qtr['quarter']))\n",
    "qtr_value = {'quarter 1': 0, 'quarter 2': 0, 'quarter 3': 0, 'quarter 4': 0, 'halftime': 0, 'overtime': 0}\n",
    "q1_brand, q2_brand, q3_brand, q4_brand, half_brand, ot_brand = [], [], [], [], [], []\n",
    "for brand, quarter in link_counts:\n",
    "    \n",
    "    if quarter == 'quarter 1':\n",
    "        qtr_value['quarter 1'] += counts.get(brand, 0)\n",
    "        q1_brand.append(brand)\n",
    "        \n",
    "    elif quarter == 'quarter 2':\n",
    "         qtr_value['quarter 2'] += counts.get(brand, 0)\n",
    "         q2_brand.append(brand)\n",
    "         \n",
    "    elif quarter == 'quarter 3':\n",
    "         qtr_value['quarter 3'] += counts.get(brand, 0)\n",
    "         q3_brand.append(brand)\n",
    "         \n",
    "    elif quarter == 'quarter 4':\n",
    "         qtr_value['quarter 4'] += counts.get(brand, 0)\n",
    "         q4_brand.append(brand)\n",
    "         \n",
    "    elif quarter == 'halftime':\n",
    "         qtr_value['halftime'] += counts.get(brand, 0)\n",
    "         half_brand.append(brand)\n",
    "         \n",
    "    elif quarter == 'overtime':\n",
    "         qtr_value['overtime'] += counts.get(brand, 0)\n",
    "         ot_brand.append(brand)\n",
    "         \n",
    "    else:\n",
    "         print('Error')\n",
    "     \n",
    "for qtrs in qtr_value:\n",
    "    print(qtr_value[qtrs])"
   ],
   "metadata": {
    "collapsed": false
   },
   "id": "7f76423a04ea68c0",
   "execution_count": null
  },
  {
   "cell_type": "code",
   "outputs": [],
   "source": [
    "#Section for plotting the quarterly tweet counts\n",
    "\n",
    "plt.figure(figsize= (8,6))\n",
    "plt.bar(qtr_value.keys(), qtr_value.values())\n",
    "plt.title('Quarterly Tweet Counts')\n",
    "plt.xlabel('Quarter')\n",
    "plt.ylabel('Frequency')\n",
    "plt.xticks(rotation = 45)\n",
    "plt.show()"
   ],
   "metadata": {
    "collapsed": false
   },
   "id": "1c9b554c52951463",
   "execution_count": null
  },
  {
   "cell_type": "code",
   "outputs": [],
   "source": [
    "#Section to compare sentiment score by quarter\n",
    "\n",
    "ss = pd.read_csv('sentiment_scores.csv')\n",
    "brand_sent_link = list(zip(ss['Brand'], ss['Score']))\n",
    "\n",
    "qbr = pd.read_csv('Quarter and Brand Result.csv')\n",
    "\n",
    "for brand in qtr_value:\n",
    "    qtr_value[brand] = 0\n",
    "\n",
    "for brand, score in brand_sent_link:\n",
    "    if brand in q1_brand:\n",
    "        qtr_value['quarter 1'] += score\n",
    "\n",
    "    elif brand in q2_brand:\n",
    "        qtr_value['quarter 2'] += score\n",
    "\n",
    "    elif brand in q3_brand:\n",
    "        qtr_value['quarter 3'] += score\n",
    "\n",
    "    elif brand in q4_brand:\n",
    "        qtr_value['quarter 4'] += score\n",
    "\n",
    "    elif brand in half_brand:\n",
    "        qtr_value['halftime'] += score\n",
    "\n",
    "    elif brand in ot_brand:\n",
    "        qtr_value['overtime'] += score\n",
    "\n",
    "    else:\n",
    "        print('Error')\n",
    "\n",
    "for qtrs in qtr_value:\n",
    "    print(qtr_value[qtrs])\n",
    "\n",
    "plt.figure(figsize=(8, 6))\n",
    "plt.bar(qtr_value.keys(), qtr_value.values())\n",
    "plt.title('Quarterly Sentiment Scores')\n",
    "plt.xlabel('Quarter')\n",
    "plt.ylabel('Sentiment Score')\n",
    "plt.xticks(rotation=45)\n",
    "plt.show()\n"
   ],
   "metadata": {
    "collapsed": false
   },
   "id": "10e9e1afbf64fd3c",
   "execution_count": null
  },
  {
   "cell_type": "code",
   "outputs": [],
   "source": [
    "#section for appending the sentiment scores with tweet-less brands\n",
    "import csv\n",
    "\n",
    "ss = pd.read_csv('sentiment_scores.csv').filter(items = ['Brand'])\n",
    "qbr = pd.read_csv('Quarter and Brand Result.csv').filter(items = ['brandname'])\n",
    "\n",
    "unique_brands = set()  \n",
    "\n",
    "for brand in qbr['brandname']:\n",
    "    unique_brands.add(brand)\n",
    "    \n",
    "for brand in ss['Brand']:\n",
    "    if brand in unique_brands:\n",
    "        unique_brands.remove(brand)\n",
    "        \n",
    "with open('sentiment_scores.csv', 'a', newline='') as csv_file:\n",
    "        writer = csv.writer(csv_file)\n",
    "        for brand in unique_brands:\n",
    "            writer.writerow([brand, 0])\n"
   ],
   "metadata": {
    "collapsed": false
   },
   "id": "620a518139603aa6",
   "execution_count": null
  },
  {
   "cell_type": "code",
   "outputs": [],
   "source": [],
   "metadata": {
    "collapsed": false
   },
   "id": "e96968f6fc121be5"
  }
 ],
 "metadata": {
  "kernelspec": {
   "display_name": "Python 3",
   "language": "python",
   "name": "python3"
  },
  "language_info": {
   "codemirror_mode": {
    "name": "ipython",
    "version": 2
   },
   "file_extension": ".py",
   "mimetype": "text/x-python",
   "name": "python",
   "nbconvert_exporter": "python",
   "pygments_lexer": "ipython2",
   "version": "2.7.6"
  }
 },
 "nbformat": 4,
 "nbformat_minor": 5
}
